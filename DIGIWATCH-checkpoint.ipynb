{
 "cells": [
  {
   "cell_type": "code",
   "execution_count": null,
   "id": "063649cc",
   "metadata": {},
   "outputs": [],
   "source": [
    "import tkinter as tk\n",
    "import time\n",
    "\n",
    "class DigitalWatch(tk.Tk):\n",
    "    def __init__(self):\n",
    "        super().__init__()\n",
    "        self.title(\"Digital Watch\")\n",
    "        self.geometry(\"300x150\")\n",
    "        self.time_label = tk.Label(self, font=(\"Helvetica\", 40), bg=\"black\", fg=\"white\")\n",
    "        self.time_label.pack(expand=True, fill=\"both\")\n",
    "        self.update_time()\n",
    "\n",
    "    def update_time(self):\n",
    "        current_time = time.strftime(\"%H:%M:%S\")\n",
    "        self.time_label.config(text=current_time)\n",
    "        self.after(1000, self.update_time)  # Update time every 1 second\n",
    "\n",
    "if __name__ == \"__main__\":\n",
    "    app = DigitalWatch()\n",
    "    app.mainloop()"
   ]
  }
 ],
 "metadata": {
  "kernelspec": {
   "display_name": "Python 3 (ipykernel)",
   "language": "python",
   "name": "python3"
  },
  "language_info": {
   "codemirror_mode": {
    "name": "ipython",
    "version": 3
   },
   "file_extension": ".py",
   "mimetype": "text/x-python",
   "name": "python",
   "nbconvert_exporter": "python",
   "pygments_lexer": "ipython3",
   "version": "3.9.13"
  }
 },
 "nbformat": 4,
 "nbformat_minor": 5
}
